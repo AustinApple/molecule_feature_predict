{
 "cells": [
  {
   "cell_type": "code",
   "execution_count": 27,
   "metadata": {},
   "outputs": [
    {
     "data": {
      "text/html": [
       "<div>\n",
       "<style scoped>\n",
       "    .dataframe tbody tr th:only-of-type {\n",
       "        vertical-align: middle;\n",
       "    }\n",
       "\n",
       "    .dataframe tbody tr th {\n",
       "        vertical-align: top;\n",
       "    }\n",
       "\n",
       "    .dataframe thead th {\n",
       "        text-align: right;\n",
       "    }\n",
       "</style>\n",
       "<table border=\"1\" class=\"dataframe\">\n",
       "  <thead>\n",
       "    <tr style=\"text-align: right;\">\n",
       "      <th></th>\n",
       "      <th>SMILES</th>\n",
       "      <th>IE</th>\n",
       "      <th>EA</th>\n",
       "    </tr>\n",
       "  </thead>\n",
       "  <tbody>\n",
       "    <tr>\n",
       "      <th>0</th>\n",
       "      <td>C1COC(=O)O1</td>\n",
       "      <td>7.355084</td>\n",
       "      <td>2.803451</td>\n",
       "    </tr>\n",
       "    <tr>\n",
       "      <th>1</th>\n",
       "      <td>CCOC(=O)OCC</td>\n",
       "      <td>6.745920</td>\n",
       "      <td>-1.437219</td>\n",
       "    </tr>\n",
       "  </tbody>\n",
       "</table>\n",
       "</div>"
      ],
      "text/plain": [
       "        SMILES        IE        EA\n",
       "0  C1COC(=O)O1  7.355084  2.803451\n",
       "1  CCOC(=O)OCC  6.745920 -1.437219"
      ]
     },
     "execution_count": 27,
     "metadata": {},
     "output_type": "execute_result"
    }
   ],
   "source": [
    "\n",
    "import pandas as pd \n",
    "from featurize import SYBYL\n",
    "import importlib\n",
    "# importlib.reload(featurize)\n",
    "\n",
    "ECFP_SYBYL = pd.read_csv(\"ECFP_predict.csv\")\n",
    "ECFP_SYBYL\n"
   ]
  },
  {
   "cell_type": "code",
   "execution_count": 8,
   "metadata": {},
   "outputs": [
    {
     "name": "stdout",
     "output_type": "stream",
     "text": [
      "32\n"
     ]
    }
   ],
   "source": [
    "atom_type=['Al','B','Br','C.1','C.2','C.3','C.ar','C.cat','Ca','Cl','F','H',\n",
    "        'Li','Mg','N.1','N.2','N.3','N.4','N.am','N.ar','N.pl3','Na',\n",
    "        'O.2','O.3','O.co2','P.3','S.2','S.3','S.O','S.O2','Si','Zn']\n",
    "\n",
    "\n",
    "print(len(atom_type))"
   ]
  }
 ],
 "metadata": {
  "kernelspec": {
   "display_name": "Python 3",
   "language": "python",
   "name": "python3"
  },
  "language_info": {
   "codemirror_mode": {
    "name": "ipython",
    "version": 3
   },
   "file_extension": ".py",
   "mimetype": "text/x-python",
   "name": "python",
   "nbconvert_exporter": "python",
   "pygments_lexer": "ipython3",
   "version": "3.6.9"
  }
 },
 "nbformat": 4,
 "nbformat_minor": 4
}
